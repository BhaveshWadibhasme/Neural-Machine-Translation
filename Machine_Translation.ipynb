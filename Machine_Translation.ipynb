{
  "nbformat": 4,
  "nbformat_minor": 0,
  "metadata": {
    "colab": {
      "name": "Machine Translation.ipynb",
      "provenance": [],
      "collapsed_sections": [],
      "authorship_tag": "ABX9TyNlgfP0uXbrZsVeXhYLzQBU",
      "include_colab_link": true
    },
    "kernelspec": {
      "name": "python3",
      "display_name": "Python 3"
    }
  },
  "cells": [
    {
      "cell_type": "markdown",
      "metadata": {
        "id": "view-in-github",
        "colab_type": "text"
      },
      "source": [
        "<a href=\"https://colab.research.google.com/github/BhaveshWadibhasme/Neural-Machine-Translation/blob/main/Machine_Translation.ipynb\" target=\"_parent\"><img src=\"https://colab.research.google.com/assets/colab-badge.svg\" alt=\"Open In Colab\"/></a>"
      ]
    },
    {
      "cell_type": "code",
      "metadata": {
        "id": "4yR0JXbFmyms"
      },
      "source": [
        "import tensorflow as tf\r\n",
        "from tensorflow import keras\r\n",
        "from keras.layers import *\r\n",
        "from keras.models import *\r\n",
        "from keras.utils import *\r\n",
        "from keras.initializers import *\r\n",
        "from keras.optimizers import * \r\n",
        "import numpy as np"
      ],
      "execution_count": 27,
      "outputs": []
    },
    {
      "cell_type": "code",
      "metadata": {
        "id": "SU8wYVfJN0Ki"
      },
      "source": [
        "batch_size = 128  \r\n",
        "epochs = 1  \r\n",
        "latent_dim = 256  \r\n",
        "num_samples = 10000  \r\n",
        "# set the data_path accordingly\r\n",
        "data_path = \"/content/spa.txt\" "
      ],
      "execution_count": 28,
      "outputs": []
    },
    {
      "cell_type": "code",
      "metadata": {
        "id": "b6v4DI7yN0NL"
      },
      "source": [
        "input_texts = []\r\n",
        "target_texts = []\r\n",
        "input_characters = set()\r\n",
        "target_characters = set()\r\n",
        "with open(data_path, \"r\", encoding=\"utf-8\") as f:\r\n",
        "    lines = f.read().split(\"\\n\")"
      ],
      "execution_count": 29,
      "outputs": []
    },
    {
      "cell_type": "code",
      "metadata": {
        "colab": {
          "base_uri": "https://localhost:8080/"
        },
        "id": "GiCkOeE0PLzZ",
        "outputId": "c59c0dba-c1f6-465b-a98e-94bb16e11494"
      },
      "source": [
        "for line in lines[: min(num_samples, len(lines) - 1)]:\r\n",
        "    input_text, target_text, _ = line.split(\"\\t\")\r\n",
        "    ############### A ###############\r\n",
        "    target_text = \"\\t\" + target_text + \"\\n\"\r\n",
        "    input_texts.append(input_text)\r\n",
        "    target_texts.append(target_text)\r\n",
        "    ############### B ###############\r\n",
        "    for char in input_text:\r\n",
        "        if char not in input_characters:\r\n",
        "            input_characters.add(char)\r\n",
        "    for char in target_text:\r\n",
        "        if char not in target_characters:\r\n",
        "            target_characters.add(char)\r\n",
        "print(input_characters)\r\n",
        "print(target_characters)"
      ],
      "execution_count": 30,
      "outputs": [
        {
          "output_type": "stream",
          "text": [
            "{\"'\", 'C', 'W', '-', 'G', 'z', '9', 'y', 'R', 'j', 'b', 'S', 'L', '3', 'K', 'D', 'i', 'v', 't', '2', '1', 'q', 'Y', 'U', '6', 'F', 'E', '4', '.', '?', 'p', 'a', 'I', 'x', 'f', 'o', 'P', 'u', '8', ':', '$', 'l', 'w', 'J', 'd', 'B', '7', 'N', 'e', ' ', '5', 'h', 'M', 'c', 'A', 'k', 'T', ',', '!', 'm', 'O', 'n', 'V', 'r', 'Q', 'H', '0', 'g', 's'}\n",
            "{\"'\", 'C', 'W', '-', 'G', 'z', 'y', 'ú', 'R', '¡', '»', 'Ó', 'b', 'S', 'j', 'L', '3', 'D', 'á', 'i', 'v', 't', '2', '1', '«', 'q', 'Y', 'U', '6', 'F', 'E', '4', '.', 'a', '?', 'p', 'I', 'x', 'ó', 'o', 'P', 'f', 'ü', 'u', '8', ':', '7', 'l', 'B', 'J', 'd', 'ñ', 'w', '¿', 'e', 'é', 'N', ' ', '5', 'h', 'M', 'c', 'A', ',', 'T', 'Á', '!', 'k', 'O', 'm', 'í', 'n', 'É', '\\n', 'V', '\\t', 'r', '\"', 'Q', 'H', 'Ú', '0', 'g', 's'}\n"
          ],
          "name": "stdout"
        }
      ]
    },
    {
      "cell_type": "code",
      "metadata": {
        "id": "pVHX0SUeVCj-"
      },
      "source": [
        " "
      ],
      "execution_count": 70,
      "outputs": []
    },
    {
      "cell_type": "code",
      "metadata": {
        "colab": {
          "base_uri": "https://localhost:8080/"
        },
        "id": "sY80R9OCPL3V",
        "outputId": "1a804336-2977-4347-d201-b208f720ddaa"
      },
      "source": [
        "input_characters = sorted(list(input_characters))\r\n",
        "target_characters = sorted(list(target_characters))\r\n",
        "num_encoder_tokens = len(input_characters)\r\n",
        "num_decoder_tokens = len(target_characters)\r\n",
        "max_encoder_seq_length = max([len(txt) for txt in input_texts])\r\n",
        "max_decoder_seq_length = max([len(txt) for txt in target_texts])\r\n",
        "\r\n",
        "print(\"No.of samples:\", len(input_texts))\r\n",
        "print(\"No.of unique input tokens:\", num_encoder_tokens)\r\n",
        "print(\"No.of unique output tokens:\", num_decoder_tokens)\r\n",
        "print(\"Maximum seq length for inputs:\", max_encoder_seq_length)\r\n",
        "print(\"Maximum seq length for outputs:\", max_decoder_seq_length)"
      ],
      "execution_count": 31,
      "outputs": [
        {
          "output_type": "stream",
          "text": [
            "No.of samples: 10000\n",
            "No.of unique input tokens: 69\n",
            "No.of unique output tokens: 84\n",
            "Maximum seq length for inputs: 16\n",
            "Maximum seq length for outputs: 42\n"
          ],
          "name": "stdout"
        }
      ]
    },
    {
      "cell_type": "code",
      "metadata": {
        "colab": {
          "base_uri": "https://localhost:8080/"
        },
        "id": "j6sECBK8POyH",
        "outputId": "cc485606-158f-4f95-822b-8e6d3a392abe"
      },
      "source": [
        "input_token_index = dict([(char, i) for i, char in enumerate(input_characters)])\r\n",
        "target_token_index = dict([(char, i) for i, char in enumerate(target_characters)])\r\n",
        "\r\n",
        "print(input_token_index)\r\n",
        "print(target_token_index)"
      ],
      "execution_count": 32,
      "outputs": [
        {
          "output_type": "stream",
          "text": [
            "{' ': 0, '!': 1, '$': 2, \"'\": 3, ',': 4, '-': 5, '.': 6, '0': 7, '1': 8, '2': 9, '3': 10, '4': 11, '5': 12, '6': 13, '7': 14, '8': 15, '9': 16, ':': 17, '?': 18, 'A': 19, 'B': 20, 'C': 21, 'D': 22, 'E': 23, 'F': 24, 'G': 25, 'H': 26, 'I': 27, 'J': 28, 'K': 29, 'L': 30, 'M': 31, 'N': 32, 'O': 33, 'P': 34, 'Q': 35, 'R': 36, 'S': 37, 'T': 38, 'U': 39, 'V': 40, 'W': 41, 'Y': 42, 'a': 43, 'b': 44, 'c': 45, 'd': 46, 'e': 47, 'f': 48, 'g': 49, 'h': 50, 'i': 51, 'j': 52, 'k': 53, 'l': 54, 'm': 55, 'n': 56, 'o': 57, 'p': 58, 'q': 59, 'r': 60, 's': 61, 't': 62, 'u': 63, 'v': 64, 'w': 65, 'x': 66, 'y': 67, 'z': 68}\n",
            "{'\\t': 0, '\\n': 1, ' ': 2, '!': 3, '\"': 4, \"'\": 5, ',': 6, '-': 7, '.': 8, '0': 9, '1': 10, '2': 11, '3': 12, '4': 13, '5': 14, '6': 15, '7': 16, '8': 17, ':': 18, '?': 19, 'A': 20, 'B': 21, 'C': 22, 'D': 23, 'E': 24, 'F': 25, 'G': 26, 'H': 27, 'I': 28, 'J': 29, 'L': 30, 'M': 31, 'N': 32, 'O': 33, 'P': 34, 'Q': 35, 'R': 36, 'S': 37, 'T': 38, 'U': 39, 'V': 40, 'W': 41, 'Y': 42, 'a': 43, 'b': 44, 'c': 45, 'd': 46, 'e': 47, 'f': 48, 'g': 49, 'h': 50, 'i': 51, 'j': 52, 'k': 53, 'l': 54, 'm': 55, 'n': 56, 'o': 57, 'p': 58, 'q': 59, 'r': 60, 's': 61, 't': 62, 'u': 63, 'v': 64, 'w': 65, 'x': 66, 'y': 67, 'z': 68, '¡': 69, '«': 70, '»': 71, '¿': 72, 'Á': 73, 'É': 74, 'Ó': 75, 'Ú': 76, 'á': 77, 'é': 78, 'í': 79, 'ñ': 80, 'ó': 81, 'ú': 82, 'ü': 83}\n"
          ],
          "name": "stdout"
        }
      ]
    },
    {
      "cell_type": "code",
      "metadata": {
        "id": "7aGduhxBPO0c"
      },
      "source": [
        "encoder_input_data = np.zeros(\r\n",
        "  (len(input_texts), max_encoder_seq_length, num_encoder_tokens), dtype=\"float32\"\r\n",
        ")\r\n",
        "\r\n",
        "decoder_input_data = np.zeros(\r\n",
        "  (len(input_texts), max_decoder_seq_length, num_decoder_tokens), dtype=\"float32\"\r\n",
        ")\r\n",
        "\r\n",
        "decoder_target_data = np.zeros(\r\n",
        "  (len(input_texts), max_decoder_seq_length, num_decoder_tokens), dtype=\"float32\"\r\n",
        ")\r\n",
        "\r\n",
        "for i, (input_text, target_text) in enumerate(zip(input_texts, target_texts)):\r\n",
        "    for t, char in enumerate(input_text):\r\n",
        "        #print(t)\r\n",
        "        encoder_input_data[i, t, input_token_index[char]] = 1.0\r\n",
        "    encoder_input_data[i, t + 1 :, input_token_index[\" \"]] = 1.0\r\n",
        "    for t, char in enumerate(target_text):\r\n",
        "        decoder_input_data[i, t, target_token_index[char]] = 1.0\r\n",
        "        if t > 0:\r\n",
        "            decoder_target_data[i, t - 1, target_token_index[char]] = 1.0\r\n",
        "    decoder_input_data[i, t + 1 :, target_token_index[\" \"]] = 1.0\r\n",
        "    decoder_target_data[i, t:, target_token_index[\" \"]] = 1.0"
      ],
      "execution_count": 69,
      "outputs": []
    },
    {
      "cell_type": "code",
      "metadata": {
        "id": "Q8MuziG6PO4V"
      },
      "source": [
        "encoder_inputs = keras.Input(shape=(None, num_encoder_tokens))\r\n",
        "encoder = keras.layers.LSTM(latent_dim, return_state=True)\r\n",
        "encoder_outputs, state_h, state_c = encoder(encoder_inputs)\r\n",
        "\r\n",
        "encoder_states = [state_h, state_c]"
      ],
      "execution_count": 36,
      "outputs": []
    },
    {
      "cell_type": "code",
      "metadata": {
        "id": "-Aa2l_V-PO65"
      },
      "source": [
        "decoder_inputs = keras.Input(shape=(None, num_decoder_tokens))\r\n",
        "decoder_lstm = keras.layers.LSTM(latent_dim, return_sequences=True, return_state=True)\r\n",
        "decoder_outputs, _, _ = decoder_lstm(decoder_inputs, initial_state=encoder_states)\r\n",
        "decoder_dense = keras.layers.Dense(num_decoder_tokens, activation=\"softmax\")\r\n",
        "decoder_outputs = decoder_dense(decoder_outputs)"
      ],
      "execution_count": 37,
      "outputs": []
    },
    {
      "cell_type": "code",
      "metadata": {
        "colab": {
          "base_uri": "https://localhost:8080/"
        },
        "id": "5_RMaQkBPL5u",
        "outputId": "9c1e4322-42a4-433c-c6f3-dde869540ff2"
      },
      "source": [
        "model = keras.Model([encoder_inputs, decoder_inputs], decoder_outputs)\r\n",
        "\r\n",
        "model.compile(optimizer=Adam(lr=0.01, beta_1=0.9, beta_2=0.999, decay=0.001), loss='categorical_crossentropy', metrics=[\"accuracy\"])\r\n",
        "\r\n",
        "model.fit(\r\n",
        "    [encoder_input_data, decoder_input_data],\r\n",
        "    decoder_target_data,\r\n",
        "    batch_size=batch_size,\r\n",
        "    epochs=epochs,\r\n",
        "    validation_split=0.2,\r\n",
        ")\r\n",
        "model.save(\"E2S\")"
      ],
      "execution_count": 38,
      "outputs": [
        {
          "output_type": "stream",
          "text": [
            "63/63 [==============================] - 33s 468ms/step - loss: 2.2728 - accuracy: 0.5619 - val_loss: 1.3734 - val_accuracy: 0.6427\n"
          ],
          "name": "stdout"
        },
        {
          "output_type": "stream",
          "text": [
            "WARNING:absl:Found untraced functions such as lstm_cell_layer_call_and_return_conditional_losses, lstm_cell_layer_call_fn, lstm_cell_1_layer_call_and_return_conditional_losses, lstm_cell_1_layer_call_fn, lstm_cell_layer_call_fn while saving (showing 5 of 10). These functions will not be directly callable after loading.\n",
            "WARNING:absl:Found untraced functions such as lstm_cell_layer_call_and_return_conditional_losses, lstm_cell_layer_call_fn, lstm_cell_1_layer_call_and_return_conditional_losses, lstm_cell_1_layer_call_fn, lstm_cell_layer_call_fn while saving (showing 5 of 10). These functions will not be directly callable after loading.\n"
          ],
          "name": "stderr"
        },
        {
          "output_type": "stream",
          "text": [
            "INFO:tensorflow:Assets written to: E2S/assets\n"
          ],
          "name": "stdout"
        },
        {
          "output_type": "stream",
          "text": [
            "INFO:tensorflow:Assets written to: E2S/assets\n"
          ],
          "name": "stderr"
        }
      ]
    },
    {
      "cell_type": "code",
      "metadata": {
        "colab": {
          "base_uri": "https://localhost:8080/"
        },
        "id": "uwVxXCU7RY1B",
        "outputId": "57c6091f-a74e-4897-9590-f0a6dc0d0f36"
      },
      "source": [
        "print(\"shape encoder_input_data :\",encoder_input_data.shape)\r\n",
        "print(\"shape decoder_input_data :\",decoder_input_data.shape)\r\n",
        "print(\"shape decoder_target_data:\",decoder_target_data.shape)"
      ],
      "execution_count": 39,
      "outputs": [
        {
          "output_type": "stream",
          "text": [
            "shape encoder_input_data : (10000, 16, 69)\n",
            "shape decoder_input_data : (10000, 42, 84)\n",
            "shape decoder_target_data: (10000, 42, 84)\n"
          ],
          "name": "stdout"
        }
      ]
    },
    {
      "cell_type": "code",
      "metadata": {
        "id": "DJJRuIBP2347"
      },
      "source": [
        "encoder_inputs = model.input[0]  # input_1\r\n",
        "encoder_outputs, state_h_enc, state_c_enc = model.layers[2].output  # lstm_1\r\n",
        "encoder_states = [state_h_enc, state_c_enc]\r\n",
        "encoder_model = keras.Model(encoder_inputs, encoder_states)"
      ],
      "execution_count": 40,
      "outputs": []
    },
    {
      "cell_type": "code",
      "metadata": {
        "id": "ROaimLQW238Q"
      },
      "source": [
        "decoder_inputs = model.input[1]  # input_2\r\n",
        "decoder_state_input_h = keras.Input(shape=(latent_dim,), name=\"input_3\")\r\n",
        "decoder_state_input_c = keras.Input(shape=(latent_dim,), name=\"input_4\")\r\n",
        "decoder_states_inputs = [decoder_state_input_h, decoder_state_input_c]\r\n",
        "decoder_lstm = model.layers[3]\r\n",
        "decoder_outputs, state_h_dec, state_c_dec = decoder_lstm(\r\n",
        "    decoder_inputs, initial_state=decoder_states_inputs\r\n",
        ")\r\n",
        "decoder_states = [state_h_dec, state_c_dec]\r\n",
        "decoder_dense = model.layers[4]\r\n",
        "decoder_outputs = decoder_dense(decoder_outputs)\r\n",
        "decoder_model = keras.Model(\r\n",
        "    [decoder_inputs] + decoder_states_inputs, [decoder_outputs] + decoder_states\r\n",
        ")"
      ],
      "execution_count": 41,
      "outputs": []
    },
    {
      "cell_type": "code",
      "metadata": {
        "id": "rhbiS_G323-m"
      },
      "source": [
        "reverse_input_char_index = dict((i, char) for char, i in input_token_index.items())\r\n",
        "reverse_target_char_index = dict((i, char) for char, i in target_token_index.items())"
      ],
      "execution_count": 42,
      "outputs": []
    },
    {
      "cell_type": "code",
      "metadata": {
        "id": "dqJ4OsvB3AK-"
      },
      "source": [
        "def decode_sequence(input_seq):\r\n",
        "    states_value = encoder_model.predict(input_seq)\r\n",
        "\r\n",
        "    target_seq = np.zeros((1, 1, num_decoder_tokens))\r\n",
        "    target_seq[0, 0, target_token_index[\"\\t\"]] = 1.0\r\n",
        "\r\n",
        "    stop_condition = False\r\n",
        "    decoded_sentence = \"\"\r\n",
        "    while not stop_condition:\r\n",
        "        output_tokens, h, c = decoder_model.predict([target_seq] + states_value)\r\n",
        "\r\n",
        "        sampled_token_index = np.argmax(output_tokens[0, -1, :])\r\n",
        "        sampled_char = reverse_target_char_index[sampled_token_index]\r\n",
        "        decoded_sentence += sampled_char\r\n",
        "\r\n",
        "        if sampled_char == \"\\n\" or len(decoded_sentence) > max_decoder_seq_length:\r\n",
        "            stop_condition = True\r\n",
        "\r\n",
        "        target_seq = np.zeros((1, 1, num_decoder_tokens))\r\n",
        "        target_seq[0, 0, sampled_token_index] = 1.0\r\n",
        "\r\n",
        "        states_value = [h, c]\r\n",
        "    return decoded_sentence"
      ],
      "execution_count": 43,
      "outputs": []
    },
    {
      "cell_type": "code",
      "metadata": {
        "colab": {
          "base_uri": "https://localhost:8080/"
        },
        "id": "V-mujQSB3GaO",
        "outputId": "63ca8bd2-061b-446a-fc43-8fdd5898f420"
      },
      "source": [
        "i = np.random.choice(len(input_texts))\r\n",
        "input_seq = encoder_input_data[i:i+1]\r\n",
        "translation = decode_sequence(input_seq)\r\n",
        "print('-')\r\n",
        "print('Input:', input_texts[i])\r\n",
        "print('Translation:', translation)"
      ],
      "execution_count": 87,
      "outputs": [
        {
          "output_type": "stream",
          "text": [
            "-\n",
            "Input: They saw you.\n",
            "Translation: To ee                                      \n"
          ],
          "name": "stdout"
        }
      ]
    },
    {
      "cell_type": "code",
      "metadata": {
        "colab": {
          "base_uri": "https://localhost:8080/"
        },
        "id": "YwJZtn-t3Jr9",
        "outputId": "d244315d-9346-481e-c3ac-2f1bc4671f18"
      },
      "source": [
        "input_seq = encoder_input_data[i:i+1]\r\n",
        "input_seq"
      ],
      "execution_count": 88,
      "outputs": [
        {
          "output_type": "execute_result",
          "data": {
            "text/plain": [
              "array([[[0., 0., 0., ..., 0., 0., 0.],\n",
              "        [0., 0., 0., ..., 0., 0., 0.],\n",
              "        [0., 0., 0., ..., 0., 0., 0.],\n",
              "        ...,\n",
              "        [1., 0., 0., ..., 0., 0., 0.],\n",
              "        [1., 0., 0., ..., 0., 0., 0.],\n",
              "        [1., 0., 0., ..., 0., 0., 0.]]], dtype=float32)"
            ]
          },
          "metadata": {
            "tags": []
          },
          "execution_count": 88
        }
      ]
    },
    {
      "cell_type": "code",
      "metadata": {
        "id": "KrevoLRN3Kay",
        "colab": {
          "base_uri": "https://localhost:8080/"
        },
        "outputId": "f927974d-9ad8-48a2-f640-c356a8e8e5a1"
      },
      "source": [
        "input_sentence = \"How are you?\"\r\n",
        "test_sentence_tokenized = np.zeros(\r\n",
        "  (1, max_encoder_seq_length, num_encoder_tokens), dtype='float32')\r\n",
        "\r\n",
        "for t, char in enumerate(input_sentence):\r\n",
        " \r\n",
        "  test_sentence_tokenized[0, t, input_token_index[char]] = 1.0\r\n",
        "print(input_sentence)\r\n",
        "print(decode_sequence(test_sentence_tokenized))"
      ],
      "execution_count": 129,
      "outputs": [
        {
          "output_type": "stream",
          "text": [
            "How are you?\n",
            "To ee                                      \n"
          ],
          "name": "stdout"
        }
      ]
    },
    {
      "cell_type": "code",
      "metadata": {
        "id": "hiU3OjE8Zflu"
      },
      "source": [
        ""
      ],
      "execution_count": null,
      "outputs": []
    }
  ]
}